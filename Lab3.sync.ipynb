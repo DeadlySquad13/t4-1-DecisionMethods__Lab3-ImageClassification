{
 "cells": [
  {
   "cell_type": "code",
   "execution_count": null,
   "id": "b7c184d6",
   "metadata": {},
   "outputs": [],
   "source": []
  },
  {
   "cell_type": "markdown",
   "id": "badb61ff",
   "metadata": {},
   "source": [
    "# Лабораторная работа № 3 \n",
    "## Задание\n",
    "Необходимо познакомиться с фреймворком машинного обучения PyTorch и выполнить три задания:\n",
    "\n",
    "1. Обучить полносвязную нейронную сеть классификации 3 классов изображений из набора данных CIFAR100 по варианту с точностью на тестовой выборке не менее 70%.\n",
    "Для задания нужно сформировать свою подвыборку CIFAR100 по варианту.\n",
    "2. Преобразовать модель в ONNX и сохранить локально.\n",
    "3. Протестировать обученную модель на своих изображениях.\n",
    "  - Скачать каталог с html-файлом и встроить в него файл модели, обученной на ЛР.\n",
    "  - Скачать картинки из интернета согласно варианту и открыть их в html по кнопке. Автоматически в скрипте масштабируется изображение.\n",
    "  - Выбрать нужные классы для готовой модели. Проверить на устойчивость полносвязную модель, двигая картинку.\n",
    "\n",
    "### Варианты для Задания\n",
    "Вы должны использовать следующие классы из CIFAR100:\n",
    "\n",
    "Номер группы"
   ]
  },
  {
   "cell_type": "code",
   "execution_count": 53,
   "id": "ca88bc48",
   "metadata": {},
   "outputs": [],
   "source": [
    "GROUP = 6"
   ]
  },
  {
   "cell_type": "markdown",
   "id": "ecff6c67",
   "metadata": {},
   "source": [
    "Номер варианта\n",
    "Номер варианта + 30"
   ]
  },
  {
   "cell_type": "code",
   "execution_count": 54,
   "id": "9266d0a6",
   "metadata": {},
   "outputs": [],
   "source": [
    "VARIANT = 10"
   ]
  },
  {
   "cell_type": "code",
   "execution_count": 55,
   "id": "825cc375",
   "metadata": {},
   "outputs": [],
   "source": [
    "LABELS = [GROUP, VARIANT, VARIANT + 30]"
   ]
  },
  {
   "cell_type": "code",
   "execution_count": 56,
   "id": "ee6783fb",
   "metadata": {},
   "outputs": [],
   "source": [
    "from torchvision.datasets import CIFAR100"
   ]
  },
  {
   "cell_type": "markdown",
   "id": "4528b828",
   "metadata": {},
   "source": [
    "## Загружаем тестовую и обучающую выборку CIFAR100"
   ]
  },
  {
   "cell_type": "code",
   "execution_count": 57,
   "id": "5ba049d6",
   "metadata": {
    "lines_to_next_cell": 2
   },
   "outputs": [
    {
     "name": "stdout",
     "output_type": "stream",
     "text": [
      "Files already downloaded and verified\n",
      "Files already downloaded and verified\n"
     ]
    }
   ],
   "source": [
    "from torchvision.transforms import ToTensor\n",
    "\n",
    "dataset_settings = {\n",
    "    'root': 'data/cifar100',\n",
    "    'transform': ToTensor(),\n",
    "    'download': True,\n",
    "}\n",
    "\n",
    "train_data = CIFAR100(train=True, **dataset_settings)\n",
    "\n",
    "test_data = CIFAR100(train=False, **dataset_settings)"
   ]
  },
  {
   "cell_type": "markdown",
   "id": "1a3c943b",
   "metadata": {},
   "source": [
    "Формируем подвыборку согласно варианту."
   ]
  },
  {
   "cell_type": "code",
   "execution_count": 58,
   "id": "6f3a094b",
   "metadata": {},
   "outputs": [
    {
     "ename": "ImportError",
     "evalue": "cannot import name 'TensorDataset' from 'torchvision.datasets' (C:\\Users\\ds13\\.bookmarks\\Projects\\--educational\\Bomonka\\DecisionMethods__\\Lab3@Cifar100ImageClassification\\.venv_win\\lib\\site-packages\\torchvision\\datasets\\__init__.py)",
     "output_type": "error",
     "traceback": [
      "\u001b[1;31m---------------------------------------------------------------------------\u001b[0m",
      "\u001b[1;31mImportError\u001b[0m                               Traceback (most recent call last)",
      "Cell \u001b[1;32mIn[58], line 4\u001b[0m\n\u001b[0;32m      2\u001b[0m \u001b[38;5;28;01mimport\u001b[39;00m \u001b[38;5;21;01mnumpy\u001b[39;00m \u001b[38;5;28;01mas\u001b[39;00m \u001b[38;5;21;01mnp\u001b[39;00m\n\u001b[0;32m      3\u001b[0m \u001b[38;5;28;01mfrom\u001b[39;00m \u001b[38;5;21;01mtorch\u001b[39;00m\u001b[38;5;21;01m.\u001b[39;00m\u001b[38;5;21;01mutils\u001b[39;00m\u001b[38;5;21;01m.\u001b[39;00m\u001b[38;5;21;01mdata\u001b[39;00m \u001b[38;5;28;01mimport\u001b[39;00m Subset\n\u001b[1;32m----> 4\u001b[0m \u001b[38;5;28;01mfrom\u001b[39;00m \u001b[38;5;21;01mtorchvision\u001b[39;00m\u001b[38;5;21;01m.\u001b[39;00m\u001b[38;5;21;01mdatasets\u001b[39;00m \u001b[38;5;28;01mimport\u001b[39;00m TensorDataset\n\u001b[0;32m      6\u001b[0m \u001b[38;5;28;01mdef\u001b[39;00m \u001b[38;5;21mmake_subset\u001b[39m(dataset: TensorDataset, labels: \u001b[38;5;28mlist\u001b[39m[np\u001b[38;5;241m.\u001b[39minteger]) \u001b[38;5;241m-\u001b[39m\u001b[38;5;241m>\u001b[39m Subset:\n\u001b[0;32m      7\u001b[0m     \u001b[38;5;124;03m\"\"\"\u001b[39;00m\n\u001b[0;32m      8\u001b[0m \u001b[38;5;124;03m    Создает подвыборку с задаными метками класса.\u001b[39;00m\n\u001b[0;32m      9\u001b[0m \n\u001b[1;32m   (...)\u001b[0m\n\u001b[0;32m     14\u001b[0m \u001b[38;5;124;03m    :return: Подвыборка.\u001b[39;00m\n\u001b[0;32m     15\u001b[0m \u001b[38;5;124;03m    \"\"\"\u001b[39;00m\n",
      "\u001b[1;31mImportError\u001b[0m: cannot import name 'TensorDataset' from 'torchvision.datasets' (C:\\Users\\ds13\\.bookmarks\\Projects\\--educational\\Bomonka\\DecisionMethods__\\Lab3@Cifar100ImageClassification\\.venv_win\\lib\\site-packages\\torchvision\\datasets\\__init__.py)"
     ]
    }
   ],
   "source": [
    "import torch\n",
    "import numpy as np\n",
    "from torch.utils.data import Subset\n",
    "from torchvision.datasets import TensorDataset\n",
    "\n",
    "def make_subset(dataset: TensorDataset, labels: list[np.integer]) -> Subset:\n",
    "    \"\"\"\n",
    "    Создает подвыборку с задаными метками класса.\n",
    "\n",
    "    :param dataset: Набор данных.\n",
    "    :type dataset: TensorDataset (или любой другой тип датасета с совместимым форматом)\n",
    "    :param labels: Метки класса.\n",
    "    :type labels: list[np.integer]\n",
    "    :return: Подвыборка.\n",
    "    \"\"\"\n",
    "    mask = torch.tensor(np.isin(dataset.targets, labels), dtype=torch.bool)\n",
    "    indices = mask.nonzero().reshape(-1)\n",
    "    subset = Subset(dataset, indices)\n",
    "\n",
    "    return subset\n",
    "\n",
    "train_subset = make_subset(train_data, LABELS)\n",
    "\n",
    "test_subset = make_subset(test_data, LABELS)"
   ]
  },
  {
   "cell_type": "markdown",
   "id": "e1eaa24f",
   "metadata": {},
   "source": [
    "Отобразим полученные подвыборки"
   ]
  },
  {
   "cell_type": "code",
   "execution_count": null,
   "id": "e680e0a1",
   "metadata": {},
   "outputs": [],
   "source": [
    "import matplotlib.pyplot as plt\n",
    "ROWS = 3\n",
    "COLS = 3\n",
    "\n",
    "_, ax = plt.subplots(ROWS, COLS, figsize=(12, 12))\n",
    "\n",
    "for i in range(9):\n",
    "    img, label = train_subset[i]\n",
    "\n",
    "    row_index = i / ROWS\n",
    "    col_index = i % COLS\n",
    "    current_plt_cell = ax[row_index, col_index]\n",
    "\n",
    "    current_plt_cell.imshow(img.permute(1,2,0)) # CHW -> HWC\n",
    "    current_plt_cell.set_title(train_data.classes[label])\n",
    "    current_plt_cell.axis('off')"
   ]
  },
  {
   "cell_type": "markdown",
   "id": "1aa61b5f",
   "metadata": {},
   "source": [
    "## Предобработка датасетов.\n",
    "Изменим названия меток классов с нашего варианта на более удобные 0, 1, 2"
   ]
  },
  {
   "cell_type": "code",
   "execution_count": null,
   "id": "fb4d71ce",
   "metadata": {},
   "outputs": [],
   "source": [
    "from functools import reduce \n",
    "\n",
    "def transform_label(label):\n",
    "    \"\"\"\n",
    "    Map initial labels ([6, 10, 40] for example) to simple labels [0, 1, 2].\n",
    "    \"\"\"\n",
    "    for i, initial_label in enumerate(LABELS):\n",
    "        if label == initial_label:\n",
    "            return i\n",
    "\n",
    "    raise ValueError(f'No such label as {label} in ${LABELS}')\n",
    "\n",
    "def map_labels(labels):\n",
    "    return map(transform_label, labels)\n",
    "\n",
    "def compose(f, g):\n",
    "        return lambda x : f(g(x))\n",
    "\n",
    "def create_masked_dataset(subset: Subset, dataset: TensorDataset, target_transforms=[lambda x: x]) -> TensorDataset:\n",
    "    features = [dataset[i][0].numpy() for i in subset.indices]\n",
    "    tensor_features = torch.tensor(features)\n",
    "\n",
    "    targets = [dataset[i][1] for i in subset.indices]\n",
    "\n",
    "    # Reducing array of transform functions to a compose function.\n",
    "    # :example: [f, g] -> lambda x: f(g(x))\n",
    "    composed_target_transforms = reduce(compose, target_transforms, lambda x: x)\n",
    "    tensor_targets = torch.tensor(map(composed_target_transforms, targets))\n",
    "\n",
    "    return TensorDataset(tensor_features, tensor_targets)\n",
    "\n",
    "train_masked_dataset = create_masked_dataset(train_subset, train_data, [transform_label])\n",
    "test_masked_dataset = create_masked_dataset(test_subset, test_data, [transform_label])"
   ]
  },
  {
   "cell_type": "code",
   "execution_count": null,
   "id": "4019b0ac",
   "metadata": {
    "lines_to_next_cell": 2,
    "title": "Create device"
   },
   "outputs": [],
   "source": [
    "device = torch.device('cuda' if torch.cuda.is_available() else 'cpu')"
   ]
  }
 ],
 "metadata": {
  "jupytext": {
   "formats": "ipynb,py:percent",
   "main_language": "python"
  },
  "kernelspec": {
   "display_name": "Python 3 (ipykernel)",
   "language": "python",
   "name": "python3"
  },
  "language_info": {
   "codemirror_mode": {
    "name": "ipython",
    "version": 3
   },
   "file_extension": ".py",
   "mimetype": "text/x-python",
   "name": "python",
   "nbconvert_exporter": "python",
   "pygments_lexer": "ipython3",
   "version": "3.10.8"
  }
 },
 "nbformat": 4,
 "nbformat_minor": 5
}
